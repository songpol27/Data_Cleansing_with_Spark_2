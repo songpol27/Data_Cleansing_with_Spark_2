{
 "cells": [
  {
   "cell_type": "code",
   "execution_count": 8,
   "metadata": {},
   "outputs": [],
   "source": [
    "# Create Spark Session for Spark\n",
    "from pyspark.sql import SparkSession\n",
    "spark = SparkSession.builder.master(\"local[*]\").getOrCreate()"
   ]
  },
  {
   "cell_type": "code",
   "execution_count": 9,
   "metadata": {},
   "outputs": [],
   "source": [
    "#Read CSV File via spark \n",
    "dt = spark.read.csv('ws2_data.csv', header = True, inferSchema = True, )"
   ]
  },
  {
   "cell_type": "code",
   "execution_count": 12,
   "metadata": {},
   "outputs": [
    {
     "name": "stdout",
     "output_type": "stream",
     "text": [
      "+-------------------+--------+-------+------------+-----+\n",
      "|          timestamp| user_id|book_id|     country|price|\n",
      "+-------------------+--------+-------+------------+-----+\n",
      "|2021-05-01 08:03:44|824dc295|      2|      Israel|24.95|\n",
      "|2021-05-02 02:48:34|f80fe106|      6|    Thailand|31.49|\n",
      "|2021-05-01 16:54:57|01cb9fe0|      9|       Italy|29.65|\n",
      "|2021-05-01 21:45:28|59508f47|     13|South Africa| 22.4|\n",
      "|2021-05-01 14:50:52|3553ebbb|     14|      Canada| 28.0|\n",
      "+-------------------+--------+-------+------------+-----+\n",
      "only showing top 5 rows\n",
      "\n"
     ]
    }
   ],
   "source": [
    "# show data information 5 row\n",
    "dt.show(5)"
   ]
  },
  {
   "cell_type": "code",
   "execution_count": 15,
   "metadata": {},
   "outputs": [
    {
     "name": "stdout",
     "output_type": "stream",
     "text": [
      "root\n",
      " |-- timestamp: timestamp (nullable = true)\n",
      " |-- user_id: string (nullable = true)\n",
      " |-- book_id: integer (nullable = true)\n",
      " |-- country: string (nullable = true)\n",
      " |-- price: double (nullable = true)\n",
      "\n"
     ]
    }
   ],
   "source": [
    "#Check type of colum\n",
    "dt.printSchema()"
   ]
  },
  {
   "cell_type": "code",
   "execution_count": 17,
   "metadata": {},
   "outputs": [
    {
     "name": "stdout",
     "output_type": "stream",
     "text": [
      "(500000, 5)\n"
     ]
    }
   ],
   "source": [
    "# count row and column\n",
    "print((dt.count(), len(dt.columns)))"
   ]
  },
  {
   "cell_type": "code",
   "execution_count": 20,
   "metadata": {},
   "outputs": [
    {
     "name": "stdout",
     "output_type": "stream",
     "text": [
      "+-------+-----------+-----------------+-------+------------------+\n",
      "|summary|    user_id|          book_id|country|             price|\n",
      "+-------+-----------+-----------------+-------+------------------+\n",
      "|  count|     499998|           500000| 500000|            500000|\n",
      "|   mean|   Infinity|       740.377786|   null|31.459311679998564|\n",
      "| stddev|        NaN|559.9366172146358|   null|10.945931459891698|\n",
      "|    min|   00000f49|                1|Algeria|               0.0|\n",
      "|    25%|2.4050123E7|              262|   null|             24.95|\n",
      "|    50%|  7.04742E7|              614|   null|             29.99|\n",
      "|    75%|   4.857E81|             1215|   null|             34.99|\n",
      "|    max|   ffffe3e7|             2269|  Yemen|              84.0|\n",
      "+-------+-----------+-----------------+-------+------------------+\n",
      "\n"
     ]
    }
   ],
   "source": [
    "#Statistics\n",
    "dt.summary().show()"
   ]
  },
  {
   "cell_type": "code",
   "execution_count": 21,
   "metadata": {},
   "outputs": [
    {
     "name": "stdout",
     "output_type": "stream",
     "text": [
      "+-------+-------+-------+-------+------+\n",
      "|summary|user_id|book_id|country| price|\n",
      "+-------+-------+-------+-------+------+\n",
      "|  count| 499998| 500000| 500000|500000|\n",
      "+-------+-------+-------+-------+------+\n",
      "\n"
     ]
    }
   ],
   "source": [
    "#find data missing \n",
    "dt.summary(\"count\").show()"
   ]
  },
  {
   "cell_type": "code",
   "execution_count": 22,
   "metadata": {},
   "outputs": [
    {
     "name": "stdout",
     "output_type": "stream",
     "text": [
      "+-------------------+-------+-------+-------+-----+\n",
      "|          timestamp|user_id|book_id|country|price|\n",
      "+-------------------+-------+-------+-------+-----+\n",
      "|2021-05-01 14:41:20|   null|    516| Brazil|27.37|\n",
      "|2021-06-30 02:27:00|   null|   1390|  Japan|27.99|\n",
      "+-------------------+-------+-------+-------+-----+\n",
      "\n"
     ]
    }
   ],
   "source": [
    "#user_id colum have missing data \n",
    "dt.where(dt.user_id.isNull()).show()"
   ]
  }
 ],
 "metadata": {
  "kernelspec": {
   "display_name": "Python 3",
   "language": "python",
   "name": "python3"
  },
  "language_info": {
   "codemirror_mode": {
    "name": "ipython",
    "version": 3
   },
   "file_extension": ".py",
   "mimetype": "text/x-python",
   "name": "python",
   "nbconvert_exporter": "python",
   "pygments_lexer": "ipython3",
   "version": "3.10.2"
  },
  "orig_nbformat": 4,
  "vscode": {
   "interpreter": {
    "hash": "b5f128a601985069cda7354d061adb760671e89e0e1ba5f05e512c7b22c40b3f"
   }
  }
 },
 "nbformat": 4,
 "nbformat_minor": 2
}
