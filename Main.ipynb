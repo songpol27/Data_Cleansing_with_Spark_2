{
 "cells": [
  {
   "cell_type": "code",
   "execution_count": 294,
   "metadata": {},
   "outputs": [],
   "source": [
    "# Create Spark Session for Spark\n",
    "from pyspark.sql import SparkSession\n",
    "spark = SparkSession.builder.master(\"local[*]\").getOrCreate()"
   ]
  },
  {
   "cell_type": "code",
   "execution_count": 295,
   "metadata": {},
   "outputs": [],
   "source": [
    "#Read CSV File via spark \n",
    "dt = spark.read.csv('ws2_data.csv', header = True, inferSchema = True, )"
   ]
  },
  {
   "attachments": {},
   "cell_type": "markdown",
   "metadata": {},
   "source": [
    "Data Profiling"
   ]
  },
  {
   "cell_type": "code",
   "execution_count": 296,
   "metadata": {},
   "outputs": [
    {
     "name": "stdout",
     "output_type": "stream",
     "text": [
      "+-------------------+--------+-------+------------+-----+\n",
      "|          timestamp| user_id|book_id|     country|price|\n",
      "+-------------------+--------+-------+------------+-----+\n",
      "|2021-05-01 08:03:44|824dc295|      2|      Israel|24.95|\n",
      "|2021-05-02 02:48:34|f80fe106|      6|    Thailand|31.49|\n",
      "|2021-05-01 16:54:57|01cb9fe0|      9|       Italy|29.65|\n",
      "|2021-05-01 21:45:28|59508f47|     13|South Africa| 22.4|\n",
      "|2021-05-01 14:50:52|3553ebbb|     14|      Canada| 28.0|\n",
      "+-------------------+--------+-------+------------+-----+\n",
      "only showing top 5 rows\n",
      "\n"
     ]
    }
   ],
   "source": [
    "# show data information 5 row\n",
    "dt.show(5)"
   ]
  },
  {
   "cell_type": "code",
   "execution_count": 297,
   "metadata": {},
   "outputs": [
    {
     "name": "stdout",
     "output_type": "stream",
     "text": [
      "root\n",
      " |-- timestamp: timestamp (nullable = true)\n",
      " |-- user_id: string (nullable = true)\n",
      " |-- book_id: integer (nullable = true)\n",
      " |-- country: string (nullable = true)\n",
      " |-- price: double (nullable = true)\n",
      "\n"
     ]
    }
   ],
   "source": [
    "#Check type of colum\n",
    "dt.printSchema()"
   ]
  },
  {
   "cell_type": "code",
   "execution_count": 298,
   "metadata": {},
   "outputs": [
    {
     "name": "stdout",
     "output_type": "stream",
     "text": [
      "(500000, 5)\n"
     ]
    }
   ],
   "source": [
    "# count row and column\n",
    "print((dt.count(), len(dt.columns)))"
   ]
  },
  {
   "cell_type": "code",
   "execution_count": 299,
   "metadata": {},
   "outputs": [
    {
     "name": "stdout",
     "output_type": "stream",
     "text": [
      "+-------+-----------+-----------------+-------+------------------+\n",
      "|summary|    user_id|          book_id|country|             price|\n",
      "+-------+-----------+-----------------+-------+------------------+\n",
      "|  count|     499998|           500000| 500000|            500000|\n",
      "|   mean|   Infinity|       740.377786|   null|31.459311679998564|\n",
      "| stddev|        NaN|559.9366172146358|   null|10.945931459891698|\n",
      "|    min|   00000f49|                1|Algeria|               0.0|\n",
      "|    25%|2.4050123E7|              262|   null|             24.95|\n",
      "|    50%|  7.04742E7|              614|   null|             29.99|\n",
      "|    75%|   4.857E81|             1215|   null|             34.99|\n",
      "|    max|   ffffe3e7|             2269|  Yemen|              84.0|\n",
      "+-------+-----------+-----------------+-------+------------------+\n",
      "\n"
     ]
    }
   ],
   "source": [
    "#Statistics\n",
    "dt.summary().show()"
   ]
  },
  {
   "cell_type": "code",
   "execution_count": 300,
   "metadata": {},
   "outputs": [
    {
     "name": "stdout",
     "output_type": "stream",
     "text": [
      "+-------+-------+-------+-------+------+\n",
      "|summary|user_id|book_id|country| price|\n",
      "+-------+-------+-------+-------+------+\n",
      "|  count| 499998| 500000| 500000|500000|\n",
      "+-------+-------+-------+-------+------+\n",
      "\n"
     ]
    }
   ],
   "source": [
    "#find data missing \n",
    "dt.summary(\"count\").show()"
   ]
  },
  {
   "cell_type": "code",
   "execution_count": 301,
   "metadata": {},
   "outputs": [
    {
     "name": "stdout",
     "output_type": "stream",
     "text": [
      "+-------------------+-------+-------+-------+-----+\n",
      "|          timestamp|user_id|book_id|country|price|\n",
      "+-------------------+-------+-------+-------+-----+\n",
      "|2021-05-01 14:41:20|   null|    516| Brazil|27.37|\n",
      "|2021-06-30 02:27:00|   null|   1390|  Japan|27.99|\n",
      "+-------------------+-------+-------+-------+-----+\n",
      "\n"
     ]
    }
   ],
   "source": [
    "#user_id colum have missing data \n",
    "dt.where(dt.user_id.isNull()).show()"
   ]
  },
  {
   "attachments": {},
   "cell_type": "markdown",
   "metadata": {},
   "source": [
    "EDA - Exploratory Data Analysis"
   ]
  },
  {
   "attachments": {},
   "cell_type": "markdown",
   "metadata": {},
   "source": [
    "Non-Graphical EDA"
   ]
  },
  {
   "cell_type": "code",
   "execution_count": 302,
   "metadata": {},
   "outputs": [
    {
     "name": "stdout",
     "output_type": "stream",
     "text": [
      "+-------------------+--------+-------+-------+-----+\n",
      "|          timestamp| user_id|book_id|country|price|\n",
      "+-------------------+--------+-------+-------+-----+\n",
      "|2021-05-01 14:50:52|3553ebbb|     14| Canada| 28.0|\n",
      "|2021-05-01 00:01:09|b07799e7|     20| Canada| 28.0|\n",
      "|2021-05-01 03:38:00|3b68cda1|     20| Canada| 28.0|\n",
      "|2021-05-01 10:01:44|c52587cc|     20| Canada| 28.0|\n",
      "|2021-05-01 23:49:22|bfdfeeaf|     25| Canada|29.99|\n",
      "+-------------------+--------+-------+-------+-----+\n",
      "only showing top 5 rows\n",
      "\n"
     ]
    }
   ],
   "source": [
    "dt.where(dt.country == 'Canada').show(5)"
   ]
  },
  {
   "cell_type": "code",
   "execution_count": 303,
   "metadata": {},
   "outputs": [
    {
     "data": {
      "text/plain": [
       "0"
      ]
     },
     "execution_count": 303,
     "metadata": {},
     "output_type": "execute_result"
    }
   ],
   "source": [
    "#Total purchases made in April, how many rows?\n",
    "dt.where(dt.timestamp.startswith(\"2021-04\")).count()"
   ]
  },
  {
   "attachments": {},
   "cell_type": "markdown",
   "metadata": {},
   "source": [
    "Graphical EDA"
   ]
  },
  {
   "cell_type": "code",
   "execution_count": 304,
   "metadata": {},
   "outputs": [],
   "source": [
    "import seaborn as sns\n",
    "import matplotlib.pyplot as plt\n",
    "import pandas as pd"
   ]
  },
  {
   "cell_type": "code",
   "execution_count": 305,
   "metadata": {},
   "outputs": [],
   "source": [
    "#Convert Spark Dataframe to Pandas Dataframe \n",
    "dt_pd = dt.toPandas()"
   ]
  },
  {
   "cell_type": "code",
   "execution_count": 306,
   "metadata": {},
   "outputs": [
    {
     "data": {
      "text/plain": [
       "<Axes: xlabel='price'>"
      ]
     },
     "execution_count": 306,
     "metadata": {},
     "output_type": "execute_result"
    },
    {
     "data": {
      "image/png": "[encoded data removed]",
      "text/plain": [
       "<Figure size 640x480 with 1 Axes>"
      ]
     },
     "metadata": {},
     "output_type": "display_data"
    }
   ],
   "source": [
    "# Boxplot - Shows the distribution of numerical data.\n",
    "sns.boxplot(x = dt_pd['price'])"
   ]
  },
  {
   "cell_type": "code",
   "execution_count": 307,
   "metadata": {},
   "outputs": [
    {
     "data": {
      "text/plain": [
       "<Axes: xlabel='price', ylabel='Count'>"
      ]
     },
     "execution_count": 307,
     "metadata": {},
     "output_type": "execute_result"
    },
    {
     "data": {
      "image/png": "[encoded data removed]",
      "text/plain": [
       "<Figure size 640x480 with 1 Axes>"
      ]
     },
     "metadata": {},
     "output_type": "display_data"
    }
   ],
   "source": [
    "sns.histplot(dt_pd['price'], bins=10)"
   ]
  },
  {
   "cell_type": "code",
   "execution_count": 308,
   "metadata": {},
   "outputs": [
    {
     "data": {
      "text/plain": [
       "<Axes: xlabel='book_id', ylabel='price'>"
      ]
     },
     "execution_count": 308,
     "metadata": {},
     "output_type": "execute_result"
    },
    {
     "data": {
      "image/png": "[encoded data removed]",
      "text/plain": [
       "<Figure size 640x480 with 1 Axes>"
      ]
     },
     "metadata": {},
     "output_type": "display_data"
    }
   ],
   "source": [
    "sns.scatterplot(dt_pd, x = 'book_id', y = 'price')"
   ]
  },
  {
   "attachments": {},
   "cell_type": "markdown",
   "metadata": {},
   "source": [
    "Data Cleansing with Spark"
   ]
  },
  {
   "cell_type": "code",
   "execution_count": 309,
   "metadata": {},
   "outputs": [
    {
     "name": "stdout",
     "output_type": "stream",
     "text": [
      "+-------------------+--------+-------+------------+-----+\n",
      "|          timestamp| user_id|book_id|     country|price|\n",
      "+-------------------+--------+-------+------------+-----+\n",
      "|2021-05-01 08:03:44|824dc295|      2|      Israel|24.95|\n",
      "|2021-05-02 02:48:34|f80fe106|      6|    Thailand|31.49|\n",
      "|2021-05-01 16:54:57|01cb9fe0|      9|       Italy|29.65|\n",
      "|2021-05-01 21:45:28|59508f47|     13|South Africa| 22.4|\n",
      "|2021-05-01 14:50:52|3553ebbb|     14|      Canada| 28.0|\n",
      "+-------------------+--------+-------+------------+-----+\n",
      "only showing top 5 rows\n",
      "\n"
     ]
    }
   ],
   "source": [
    "# Show top 5 rows\n",
    "dt.show(5)"
   ]
  },
  {
   "cell_type": "code",
   "execution_count": 310,
   "metadata": {},
   "outputs": [
    {
     "name": "stdout",
     "output_type": "stream",
     "text": [
      "root\n",
      " |-- timestamp: timestamp (nullable = true)\n",
      " |-- user_id: string (nullable = true)\n",
      " |-- book_id: integer (nullable = true)\n",
      " |-- country: string (nullable = true)\n",
      " |-- price: double (nullable = true)\n",
      "\n"
     ]
    }
   ],
   "source": [
    "# Show Schema\n",
    "dt.printSchema()"
   ]
  },
  {
   "cell_type": "code",
   "execution_count": 311,
   "metadata": {},
   "outputs": [
    {
     "name": "stdout",
     "output_type": "stream",
     "text": [
      "+-------------------+\n",
      "|          timestamp|\n",
      "+-------------------+\n",
      "|2021-05-01 08:03:44|\n",
      "|2021-05-02 02:48:34|\n",
      "|2021-05-01 16:54:57|\n",
      "|2021-05-01 21:45:28|\n",
      "|2021-05-01 14:50:52|\n",
      "+-------------------+\n",
      "only showing top 5 rows\n",
      "\n"
     ]
    }
   ],
   "source": [
    "dt.select(\"timestamp\").show(5)"
   ]
  },
  {
   "attachments": {},
   "cell_type": "markdown",
   "metadata": {},
   "source": [
    "Anomalies Check\n",
    "1) Syntactical Anomalies"
   ]
  },
  {
   "cell_type": "code",
   "execution_count": 312,
   "metadata": {},
   "outputs": [
    {
     "name": "stdout",
     "output_type": "stream",
     "text": [
      "+------------------------+\n",
      "|Country                 |\n",
      "+------------------------+\n",
      "|Algeria                 |\n",
      "|Argentina               |\n",
      "|Australia               |\n",
      "|Austria                 |\n",
      "|Bahamas                 |\n",
      "|Belgium                 |\n",
      "|Brazil                  |\n",
      "|Canada                  |\n",
      "|China                   |\n",
      "|Colombia                |\n",
      "|Croatia                 |\n",
      "|Denmark                 |\n",
      "|Dubai                   |\n",
      "|Egypt                   |\n",
      "|Estonia                 |\n",
      "|Finland                 |\n",
      "|France                  |\n",
      "|Germany                 |\n",
      "|Greece                  |\n",
      "|Hungary                 |\n",
      "|India                   |\n",
      "|Indonesia               |\n",
      "|Ireland                 |\n",
      "|Israel                  |\n",
      "|Italy                   |\n",
      "|Jamaica                 |\n",
      "|Japan                   |\n",
      "|Japane                  |\n",
      "|Kenya                   |\n",
      "|Kuwait                  |\n",
      "|Malaysia                |\n",
      "|Maldives                |\n",
      "|Mexico                  |\n",
      "|Montenegro              |\n",
      "|Netherlands             |\n",
      "|New Zealand             |\n",
      "|Nigeria                 |\n",
      "|Norway                  |\n",
      "|Pakistan                |\n",
      "|Peru                    |\n",
      "|Philippines             |\n",
      "|Poland                  |\n",
      "|Portugal                |\n",
      "|Serbia                  |\n",
      "|Singapore               |\n",
      "|Slovakia                |\n",
      "|South Africa            |\n",
      "|South Korea             |\n",
      "|Spain                   |\n",
      "|Sweden                  |\n",
      "|Switzerland             |\n",
      "|Taiwan                  |\n",
      "|Thailand                |\n",
      "|Turkey                  |\n",
      "|United Kingdom          |\n",
      "|United States of America|\n",
      "|Vietnam                 |\n",
      "|Yemen                   |\n",
      "+------------------------+\n",
      "\n"
     ]
    }
   ],
   "source": [
    "# Count Country and show Country\n",
    "Number_country =dt.select(\"Country\").distinct().count()\n",
    "dt.select(\"Country\").distinct().sort(\"Country\").show( Number_country, False )"
   ]
  },
  {
   "cell_type": "code",
   "execution_count": 313,
   "metadata": {},
   "outputs": [
    {
     "name": "stdout",
     "output_type": "stream",
     "text": [
      "+-------------------+--------+-------+-------+-----+\n",
      "|          timestamp| user_id|book_id|country|price|\n",
      "+-------------------+--------+-------+-------+-----+\n",
      "|2021-05-01 13:11:11|a904217a|   1129| Japane|29.65|\n",
      "|2021-05-02 10:27:42|a6052e97|   1466| Japane| 35.0|\n",
      "|2021-05-04 10:44:41|a0f44c26|   1497| Japane|17.49|\n",
      "|2021-05-04 05:40:46|ad0f9907|   2269| Japane|35.71|\n",
      "|2021-05-05 01:08:25|aa169f5d|   1378| Japane|59.93|\n",
      "|2021-05-04 17:42:32|a28e3c68|   1411| Japane|29.99|\n",
      "|2021-05-05 16:29:39|a909212e|   1652| Japane|24.99|\n",
      "|2021-05-06 23:10:29|a7b05d98|   1420| Japane|30.79|\n",
      "|2021-05-07 22:18:42|a169255e|   1459| Japane|25.08|\n",
      "|2021-05-08 06:06:15|ab2159d6|   1035| Japane|22.67|\n",
      "|2021-05-09 02:46:06|a6cba2fc|   1928| Japane|  7.0|\n",
      "|2021-05-09 12:12:35|a0e31842|   1358| Japane|34.99|\n",
      "|2021-05-11 16:33:19|a2bc5460|   1616| Japane|29.65|\n",
      "|2021-05-12 22:32:52|af75e4d1|   1603| Japane|18.89|\n",
      "|2021-05-12 19:14:33|a0accb45|   1934| Japane| 1.95|\n",
      "|2021-05-13 05:23:12|abfe1e79|   1368| Japane|47.93|\n",
      "|2021-05-13 01:36:34|adfae803|   1512| Japane| 28.0|\n",
      "|2021-05-16 04:30:44|a71dfe3f|   1494| Japane|48.99|\n",
      "|2021-05-17 11:14:58|a4c531fc|   1336| Japane|44.99|\n",
      "|2021-05-17 04:26:45|a33e4db6|   1418| Japane| 33.6|\n",
      "+-------------------+--------+-------+-------+-----+\n",
      "only showing top 20 rows\n",
      "\n"
     ]
    }
   ],
   "source": [
    "dt.where(dt[\"country\"] == \"Japane\").show()"
   ]
  },
  {
   "cell_type": "code",
   "execution_count": 314,
   "metadata": {},
   "outputs": [],
   "source": [
    "from pyspark.sql.functions import when\n",
    "dt_clean = dt.withColumn(\"CountryUpdate\", when(dt['Country'] == 'Japane', 'Japan').otherwise(dt['Country']))"
   ]
  },
  {
   "cell_type": "code",
   "execution_count": 315,
   "metadata": {},
   "outputs": [
    {
     "name": "stdout",
     "output_type": "stream",
     "text": [
      "+------------------------+\n",
      "|CountryUpdate           |\n",
      "+------------------------+\n",
      "|Algeria                 |\n",
      "|Argentina               |\n",
      "|Australia               |\n",
      "|Austria                 |\n",
      "|Bahamas                 |\n",
      "|Belgium                 |\n",
      "|Brazil                  |\n",
      "|Canada                  |\n",
      "|China                   |\n",
      "|Colombia                |\n",
      "|Croatia                 |\n",
      "|Denmark                 |\n",
      "|Dubai                   |\n",
      "|Egypt                   |\n",
      "|Estonia                 |\n",
      "|Finland                 |\n",
      "|France                  |\n",
      "|Germany                 |\n",
      "|Greece                  |\n",
      "|Hungary                 |\n",
      "|India                   |\n",
      "|Indonesia               |\n",
      "|Ireland                 |\n",
      "|Israel                  |\n",
      "|Italy                   |\n",
      "|Jamaica                 |\n",
      "|Japan                   |\n",
      "|Kenya                   |\n",
      "|Kuwait                  |\n",
      "|Malaysia                |\n",
      "|Maldives                |\n",
      "|Mexico                  |\n",
      "|Montenegro              |\n",
      "|Netherlands             |\n",
      "|New Zealand             |\n",
      "|Nigeria                 |\n",
      "|Norway                  |\n",
      "|Pakistan                |\n",
      "|Peru                    |\n",
      "|Philippines             |\n",
      "|Poland                  |\n",
      "|Portugal                |\n",
      "|Serbia                  |\n",
      "|Singapore               |\n",
      "|Slovakia                |\n",
      "|South Africa            |\n",
      "|South Korea             |\n",
      "|Spain                   |\n",
      "|Sweden                  |\n",
      "|Switzerland             |\n",
      "|Taiwan                  |\n",
      "|Thailand                |\n",
      "|Turkey                  |\n",
      "|United Kingdom          |\n",
      "|United States of America|\n",
      "|Vietnam                 |\n",
      "|Yemen                   |\n",
      "+------------------------+\n",
      "\n"
     ]
    }
   ],
   "source": [
    "dt_clean.select(\"CountryUpdate\").distinct().sort(\"CountryUpdate\").show(Number_country, False)"
   ]
  },
  {
   "cell_type": "code",
   "execution_count": 316,
   "metadata": {},
   "outputs": [
    {
     "name": "stdout",
     "output_type": "stream",
     "text": [
      "+-------------------+--------+-------+--------------------+-----+--------------------+\n",
      "|          timestamp| user_id|book_id|             country|price|       CountryUpdate|\n",
      "+-------------------+--------+-------+--------------------+-----+--------------------+\n",
      "|2021-05-01 08:03:44|824dc295|      2|              Israel|24.95|              Israel|\n",
      "|2021-05-02 02:48:34|f80fe106|      6|            Thailand|31.49|            Thailand|\n",
      "|2021-05-01 16:54:57|01cb9fe0|      9|               Italy|29.65|               Italy|\n",
      "|2021-05-01 21:45:28|59508f47|     13|        South Africa| 22.4|        South Africa|\n",
      "|2021-05-01 14:50:52|3553ebbb|     14|              Canada| 28.0|              Canada|\n",
      "|2021-05-01 08:41:48|ea28260a|     16|United States of ...|31.18|United States of ...|\n",
      "|2021-05-01 05:51:43|ff44767e|     18|United States of ...|59.99|United States of ...|\n",
      "|2021-05-01 00:01:09|b07799e7|     20|              Canada| 28.0|              Canada|\n",
      "|2021-05-01 00:21:24|9d2e93c8|     20|             Hungary| 28.0|             Hungary|\n",
      "|2021-05-01 01:34:23|612db483|     20|              Sweden| 28.0|              Sweden|\n",
      "|2021-05-01 01:42:10|afad01ae|     20|              France| 28.0|              France|\n",
      "|2021-05-01 03:38:00|3b68cda1|     20|              Canada| 28.0|              Canada|\n",
      "|2021-05-01 04:32:25|c9a899f6|     20|United States of ...| 28.0|United States of ...|\n",
      "|2021-05-01 04:48:06|d15f0e77|     20|United States of ...| 28.0|United States of ...|\n",
      "|2021-05-01 05:00:49|032e717b|     20|              Turkey| 28.0|              Turkey|\n",
      "|2021-05-01 06:20:44|a8558738|     20|United States of ...| 28.0|United States of ...|\n",
      "|2021-05-01 06:46:35|b0ef795f|     20|         Philippines| 28.0|         Philippines|\n",
      "|2021-05-01 07:33:54|c46cc3da|     20|United States of ...| 28.0|United States of ...|\n",
      "|2021-05-01 09:14:11|54bd51eb|     20|              Brazil| 28.0|              Brazil|\n",
      "|2021-05-01 10:01:44|c52587cc|     20|              Canada| 28.0|              Canada|\n",
      "+-------------------+--------+-------+--------------------+-----+--------------------+\n",
      "only showing top 20 rows\n",
      "\n"
     ]
    }
   ],
   "source": [
    "dt_clean.show()"
   ]
  },
  {
   "cell_type": "code",
   "execution_count": 317,
   "metadata": {},
   "outputs": [],
   "source": [
    "dt_clean = dt_clean.drop(\"Country\").withColumnRenamed('CountryUpdate', 'Country')"
   ]
  },
  {
   "cell_type": "code",
   "execution_count": 318,
   "metadata": {},
   "outputs": [
    {
     "name": "stdout",
     "output_type": "stream",
     "text": [
      "+-------------------+--------+-------+-----+------------+\n",
      "|          timestamp| user_id|book_id|price|     Country|\n",
      "+-------------------+--------+-------+-----+------------+\n",
      "|2021-05-01 08:03:44|824dc295|      2|24.95|      Israel|\n",
      "|2021-05-02 02:48:34|f80fe106|      6|31.49|    Thailand|\n",
      "|2021-05-01 16:54:57|01cb9fe0|      9|29.65|       Italy|\n",
      "|2021-05-01 21:45:28|59508f47|     13| 22.4|South Africa|\n",
      "|2021-05-01 14:50:52|3553ebbb|     14| 28.0|      Canada|\n",
      "+-------------------+--------+-------+-----+------------+\n",
      "only showing top 5 rows\n",
      "\n"
     ]
    }
   ],
   "source": [
    "dt_clean.show(5)"
   ]
  },
  {
   "attachments": {},
   "cell_type": "markdown",
   "metadata": {},
   "source": [
    "Semantic Anomalies"
   ]
  },
  {
   "cell_type": "code",
   "execution_count": 319,
   "metadata": {},
   "outputs": [
    {
     "name": "stdout",
     "output_type": "stream",
     "text": [
      "+--------+\n",
      "| user_id|\n",
      "+--------+\n",
      "|824dc295|\n",
      "|f80fe106|\n",
      "|01cb9fe0|\n",
      "|59508f47|\n",
      "|3553ebbb|\n",
      "|ea28260a|\n",
      "|ff44767e|\n",
      "|b07799e7|\n",
      "|9d2e93c8|\n",
      "|612db483|\n",
      "+--------+\n",
      "only showing top 10 rows\n",
      "\n"
     ]
    }
   ],
   "source": [
    "dt_clean.select(\"user_id\").show(10)"
   ]
  },
  {
   "cell_type": "code",
   "execution_count": 320,
   "metadata": {},
   "outputs": [
    {
     "data": {
      "text/plain": [
       "500000"
      ]
     },
     "execution_count": 320,
     "metadata": {},
     "output_type": "execute_result"
    }
   ],
   "source": [
    "dt_clean.select(\"user_id\").count()"
   ]
  },
  {
   "cell_type": "code",
   "execution_count": 321,
   "metadata": {},
   "outputs": [
    {
     "data": {
      "text/plain": [
       "499996"
      ]
     },
     "execution_count": 321,
     "metadata": {},
     "output_type": "execute_result"
    }
   ],
   "source": [
    "# find data that right format \n",
    "dt_clean.where(dt_clean[\"user_id\"].rlike(\"^[a-z0-9]{8}$\")).count()"
   ]
  },
  {
   "cell_type": "code",
   "execution_count": 322,
   "metadata": {},
   "outputs": [
    {
     "name": "stdout",
     "output_type": "stream",
     "text": [
      "+-------------------+----------+-------+-----+--------------------+\n",
      "|          timestamp|   user_id|book_id|price|             Country|\n",
      "+-------------------+----------+-------+-----+--------------------+\n",
      "|2021-06-19 16:00:22|ca86d17200|   2269|35.71|United States of ...|\n",
      "|2021-05-01 14:41:20|      null|    516|27.37|              Brazil|\n",
      "|2021-07-15 18:53:09|ca86d17200|    322|30.79|United States of ...|\n",
      "|2021-06-30 02:27:00|      null|   1390|27.99|               Japan|\n",
      "+-------------------+----------+-------+-----+--------------------+\n",
      "\n"
     ]
    }
   ],
   "source": [
    "#Incorrect data = All data - Right data \n",
    "dt_correct_userid = dt_clean.filter(dt_clean[\"user_id\"].rlike(\"^[a-z0-9]{8}$\"))\n",
    "dt_incorrect_userid = dt_clean.subtract(dt_correct_userid)\n",
    "\n",
    "dt_incorrect_userid.show(10)"
   ]
  },
  {
   "cell_type": "code",
   "execution_count": 323,
   "metadata": {},
   "outputs": [],
   "source": [
    "#Replace incorrect data \n",
    "dt_clean_User_id = dt_clean.withColumn(\"UserID_Update\", when(dt_clean['user_id'] == 'ca86d17200', 'ca86d172').otherwise(dt_clean['user_id']))"
   ]
  },
  {
   "cell_type": "code",
   "execution_count": 324,
   "metadata": {},
   "outputs": [
    {
     "name": "stdout",
     "output_type": "stream",
     "text": [
      "+-------------------+-------+-------+-----+-------+-------------+\n",
      "|          timestamp|user_id|book_id|price|Country|UserID_Update|\n",
      "+-------------------+-------+-------+-----+-------+-------------+\n",
      "|2021-06-30 02:27:00|   null|   1390|27.99|  Japan|         null|\n",
      "|2021-05-01 14:41:20|   null|    516|27.37| Brazil|         null|\n",
      "+-------------------+-------+-------+-----+-------+-------------+\n",
      "\n"
     ]
    }
   ],
   "source": [
    "#Check\n",
    "#Incorrect data = All data - Right data \n",
    "dt_correct_userid = dt_clean_User_id.filter(dt_clean_User_id[\"UserID_Update\"].rlike(\"^[a-z0-9]{8}$\"))\n",
    "dt_incorrect_userid = dt_clean_User_id.subtract(dt_correct_userid)\n",
    "\n",
    "dt_incorrect_userid.show(10)"
   ]
  },
  {
   "cell_type": "code",
   "execution_count": 325,
   "metadata": {},
   "outputs": [],
   "source": [
    "dt_clean = dt_clean_User_id.drop(\"user_id\").withColumnRenamed(\"UserID_Update\", \"user_id\")\n"
   ]
  },
  {
   "cell_type": "code",
   "execution_count": 326,
   "metadata": {},
   "outputs": [
    {
     "name": "stdout",
     "output_type": "stream",
     "text": [
      "+-------------------+-------+-----+-------+-------+\n",
      "|          timestamp|book_id|price|Country|user_id|\n",
      "+-------------------+-------+-----+-------+-------+\n",
      "|2021-06-30 02:27:00|   1390|27.99|  Japan|   null|\n",
      "|2021-05-01 14:41:20|    516|27.37| Brazil|   null|\n",
      "+-------------------+-------+-----+-------+-------+\n",
      "\n"
     ]
    }
   ],
   "source": [
    "#Confirm\n",
    "#Incorrect data = All data - Right data \n",
    "dt_correct_userid = dt_clean.filter(dt_clean[\"user_id\"].rlike(\"^[a-z0-9]{8}$\"))\n",
    "dt_incorrect_userid = dt_clean.subtract(dt_correct_userid)\n",
    "\n",
    "dt_incorrect_userid.show(10)"
   ]
  },
  {
   "attachments": {},
   "cell_type": "markdown",
   "metadata": {},
   "source": [
    "Missing values"
   ]
  },
  {
   "cell_type": "code",
   "execution_count": 327,
   "metadata": {},
   "outputs": [
    {
     "name": "stdout",
     "output_type": "stream",
     "text": [
      "+-------+-------+------+-------+-------+\n",
      "|summary|book_id| price|Country|user_id|\n",
      "+-------+-------+------+-------+-------+\n",
      "|  count| 500000|500000| 500000| 499998|\n",
      "+-------+-------+------+-------+-------+\n",
      "\n"
     ]
    }
   ],
   "source": [
    "dt_clean.summary(\"count\").show()"
   ]
  },
  {
   "cell_type": "code",
   "execution_count": 328,
   "metadata": {},
   "outputs": [
    {
     "name": "stdout",
     "output_type": "stream",
     "text": [
      "+---------+-------+-----+-------+-------+\n",
      "|timestamp|book_id|price|Country|user_id|\n",
      "+---------+-------+-----+-------+-------+\n",
      "|        0|      0|    0|      0|      2|\n",
      "+---------+-------+-----+-------+-------+\n",
      "\n"
     ]
    }
   ],
   "source": [
    "# Use List Comparehension find null \n",
    "from pyspark.sql.functions import col, sum\n",
    "\n",
    "dt_nulllist = dt_clean.select([ sum(col(colname).isNull().cast(\"int\")).alias(colname) for colname in dt_clean.columns ])\n",
    "dt_nulllist.show()"
   ]
  },
  {
   "cell_type": "code",
   "execution_count": 329,
   "metadata": {},
   "outputs": [
    {
     "name": "stdout",
     "output_type": "stream",
     "text": [
      "+-------------------+-------+-----+-------+-------+\n",
      "|          timestamp|book_id|price|Country|user_id|\n",
      "+-------------------+-------+-----+-------+-------+\n",
      "|2021-05-01 14:41:20|    516|27.37| Brazil|   null|\n",
      "|2021-06-30 02:27:00|   1390|27.99|  Japan|   null|\n",
      "+-------------------+-------+-----+-------+-------+\n",
      "\n"
     ]
    }
   ],
   "source": [
    "#user_id colum have null values\n",
    "\n",
    "dt_clean.where(dt_clean['user_id'].isNull()).show(10) "
   ]
  },
  {
   "cell_type": "code",
   "execution_count": 337,
   "metadata": {},
   "outputs": [],
   "source": [
    "#The Data Analyst team says they want us to replace the NULL user_id with 00000000.\n",
    "dt_clean_user_id_update = dt_clean.withColumn(\"UserID_null\", when(dt_clean['user_id'].isNull(), '00000000').otherwise(dt_clean['user_id']))"
   ]
  },
  {
   "cell_type": "code",
   "execution_count": 338,
   "metadata": {},
   "outputs": [],
   "source": [
    "dt_clean = dt_clean_user_id_update.drop(\"user_id\").withColumnRenamed(\"UserID_null\", \"user_id\")"
   ]
  },
  {
   "cell_type": "code",
   "execution_count": 339,
   "metadata": {},
   "outputs": [
    {
     "name": "stdout",
     "output_type": "stream",
     "text": [
      "+---------+-------+-----+-------+-------+\n",
      "|timestamp|book_id|price|Country|user_id|\n",
      "+---------+-------+-----+-------+-------+\n",
      "+---------+-------+-----+-------+-------+\n",
      "\n"
     ]
    }
   ],
   "source": [
    "dt_clean.where(dt_clean['user_id'].isNull()).show(10) "
   ]
  },
  {
   "attachments": {},
   "cell_type": "markdown",
   "metadata": {},
   "source": [
    "Outliers:"
   ]
  },
  {
   "cell_type": "code",
   "execution_count": 340,
   "metadata": {},
   "outputs": [],
   "source": [
    "#Convert to panda \n",
    "dt_clean_pd = dt_clean.toPandas()"
   ]
  },
  {
   "cell_type": "code",
   "execution_count": 341,
   "metadata": {},
   "outputs": [
    {
     "data": {
      "text/plain": [
       "<Axes: xlabel='price'>"
      ]
     },
     "execution_count": 341,
     "metadata": {},
     "output_type": "execute_result"
    },
    {
     "data": {
      "image/png": "[encoded data removed]",
      "text/plain": [
       "<Figure size 640x480 with 1 Axes>"
      ]
     },
     "metadata": {},
     "output_type": "display_data"
    }
   ],
   "source": [
    "#Plot graph \n",
    "sns.boxplot(x = dt_clean_pd['price'])"
   ]
  },
  {
   "cell_type": "code",
   "execution_count": 345,
   "metadata": {},
   "outputs": [
    {
     "name": "stdout",
     "output_type": "stream",
     "text": [
      "+-------+\n",
      "|book_id|\n",
      "+-------+\n",
      "|    635|\n",
      "+-------+\n",
      "\n"
     ]
    }
   ],
   "source": [
    "#Found 1 Data is price is over 80 usd\n",
    "dt_clean.where(dt_clean[\"price\"] > 80 ).select('book_id').distinct().show()"
   ]
  },
  {
   "attachments": {},
   "cell_type": "markdown",
   "metadata": {},
   "source": [
    "Found that Book_ID = 635 is a book named \"The Power Broker\".\n",
    "\n",
    "The Power Broker actually costs $84 and is a 66-hour audio book.\n",
    "\n",
    "Here, it is considered an outlier, but it is not misinformation. Therefore, there is no need to solve anything."
   ]
  }
 ],
 "metadata": {
  "kernelspec": {
   "display_name": "Python 3",
   "language": "python",
   "name": "python3"
  },
  "language_info": {
   "codemirror_mode": {
    "name": "ipython",
    "version": 3
   },
   "file_extension": ".py",
   "mimetype": "text/x-python",
   "name": "python",
   "nbconvert_exporter": "python",
   "pygments_lexer": "ipython3",
   "version": "3.10.2"
  },
  "orig_nbformat": 4,
  "vscode": {
   "interpreter": {
    "hash": "b5f128a601985069cda7354d061adb760671e89e0e1ba5f05e512c7b22c40b3f"
   }
  }
 },
 "nbformat": 4,
 "nbformat_minor": 2
}
